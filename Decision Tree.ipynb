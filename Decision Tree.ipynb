{
 "cells": [
  {
   "cell_type": "code",
   "execution_count": 77,
   "id": "28f911d3",
   "metadata": {},
   "outputs": [],
   "source": [
    "import numpy as np\n",
    "import pandas as pd\n",
    "from sklearn.model_selection import train_test_split\n",
    "from sklearn.tree import DecisionTreeClassifier\n",
    "from sklearn.metrics import accuracy_score\n",
    "from sklearn import tree"
   ]
  },
  {
   "cell_type": "code",
   "execution_count": 78,
   "id": "145b1eda",
   "metadata": {},
   "outputs": [],
   "source": [
    "dataSet = pd.read_csv(\"Decision_Tree_ Dataset.csv\")\n",
    "dataSet = dataSet.drop('sum',axis=1)\n",
    "dataSet.rename(columns={'Unnamed: 5': 'Result'}, inplace=True)\n",
    "column_order = ['Result'] + [col for col in dataSet.columns if col != 'Result']\n",
    "dataSet = dataSet[column_order]\n"
   ]
  },
  {
   "cell_type": "code",
   "execution_count": 79,
   "id": "3d50f30a",
   "metadata": {},
   "outputs": [
    {
     "data": {
      "text/html": [
       "<div>\n",
       "<style scoped>\n",
       "    .dataframe tbody tr th:only-of-type {\n",
       "        vertical-align: middle;\n",
       "    }\n",
       "\n",
       "    .dataframe tbody tr th {\n",
       "        vertical-align: top;\n",
       "    }\n",
       "\n",
       "    .dataframe thead th {\n",
       "        text-align: right;\n",
       "    }\n",
       "</style>\n",
       "<table border=\"1\" class=\"dataframe\">\n",
       "  <thead>\n",
       "    <tr style=\"text-align: right;\">\n",
       "      <th></th>\n",
       "      <th>Result</th>\n",
       "      <th>Initial Payment</th>\n",
       "      <th>Total Payment</th>\n",
       "      <th>Credit score</th>\n",
       "      <th>house number</th>\n",
       "    </tr>\n",
       "  </thead>\n",
       "  <tbody>\n",
       "    <tr>\n",
       "      <th>0</th>\n",
       "      <td>yes</td>\n",
       "      <td>201</td>\n",
       "      <td>10018</td>\n",
       "      <td>250</td>\n",
       "      <td>3046</td>\n",
       "    </tr>\n",
       "    <tr>\n",
       "      <th>1</th>\n",
       "      <td>yes</td>\n",
       "      <td>205</td>\n",
       "      <td>10016</td>\n",
       "      <td>395</td>\n",
       "      <td>3044</td>\n",
       "    </tr>\n",
       "    <tr>\n",
       "      <th>2</th>\n",
       "      <td>yes</td>\n",
       "      <td>257</td>\n",
       "      <td>10129</td>\n",
       "      <td>109</td>\n",
       "      <td>3251</td>\n",
       "    </tr>\n",
       "    <tr>\n",
       "      <th>3</th>\n",
       "      <td>yes</td>\n",
       "      <td>246</td>\n",
       "      <td>10064</td>\n",
       "      <td>324</td>\n",
       "      <td>3137</td>\n",
       "    </tr>\n",
       "    <tr>\n",
       "      <th>4</th>\n",
       "      <td>yes</td>\n",
       "      <td>117</td>\n",
       "      <td>10115</td>\n",
       "      <td>496</td>\n",
       "      <td>3094</td>\n",
       "    </tr>\n",
       "  </tbody>\n",
       "</table>\n",
       "</div>"
      ],
      "text/plain": [
       "  Result  Initial Payment  Total Payment  Credit score  house number\n",
       "0    yes              201          10018           250          3046\n",
       "1    yes              205          10016           395          3044\n",
       "2    yes              257          10129           109          3251\n",
       "3    yes              246          10064           324          3137\n",
       "4    yes              117          10115           496          3094"
      ]
     },
     "execution_count": 79,
     "metadata": {},
     "output_type": "execute_result"
    }
   ],
   "source": [
    "column_mapping = {\n",
    "    '1': 'Initial Payment',\n",
    "    '2': 'Total Payment',\n",
    "    '3': 'Credit score',\n",
    "    '4': 'house number',\n",
    "    'unlabeled_column': 'result'\n",
    "}\n",
    "dataSet.rename(columns=column_mapping, inplace=True)\n",
    "\n",
    "dataSet.head()"
   ]
  },
  {
   "cell_type": "code",
   "execution_count": 80,
   "id": "305615ed",
   "metadata": {},
   "outputs": [],
   "source": [
    "X = dataSet.values[ :, 1:5]\n",
    "Y = dataSet.values[ :, 0]"
   ]
  },
  {
   "cell_type": "code",
   "execution_count": 81,
   "id": "0521438c",
   "metadata": {},
   "outputs": [],
   "source": [
    "X_test, X_train, Y_test, Y_train = train_test_split(X, Y, test_size = 0.3, random_state=42) "
   ]
  },
  {
   "cell_type": "code",
   "execution_count": 82,
   "id": "5776517b",
   "metadata": {},
   "outputs": [
    {
     "data": {
      "text/html": [
       "<style>#sk-container-id-4 {color: black;background-color: white;}#sk-container-id-4 pre{padding: 0;}#sk-container-id-4 div.sk-toggleable {background-color: white;}#sk-container-id-4 label.sk-toggleable__label {cursor: pointer;display: block;width: 100%;margin-bottom: 0;padding: 0.3em;box-sizing: border-box;text-align: center;}#sk-container-id-4 label.sk-toggleable__label-arrow:before {content: \"▸\";float: left;margin-right: 0.25em;color: #696969;}#sk-container-id-4 label.sk-toggleable__label-arrow:hover:before {color: black;}#sk-container-id-4 div.sk-estimator:hover label.sk-toggleable__label-arrow:before {color: black;}#sk-container-id-4 div.sk-toggleable__content {max-height: 0;max-width: 0;overflow: hidden;text-align: left;background-color: #f0f8ff;}#sk-container-id-4 div.sk-toggleable__content pre {margin: 0.2em;color: black;border-radius: 0.25em;background-color: #f0f8ff;}#sk-container-id-4 input.sk-toggleable__control:checked~div.sk-toggleable__content {max-height: 200px;max-width: 100%;overflow: auto;}#sk-container-id-4 input.sk-toggleable__control:checked~label.sk-toggleable__label-arrow:before {content: \"▾\";}#sk-container-id-4 div.sk-estimator input.sk-toggleable__control:checked~label.sk-toggleable__label {background-color: #d4ebff;}#sk-container-id-4 div.sk-label input.sk-toggleable__control:checked~label.sk-toggleable__label {background-color: #d4ebff;}#sk-container-id-4 input.sk-hidden--visually {border: 0;clip: rect(1px 1px 1px 1px);clip: rect(1px, 1px, 1px, 1px);height: 1px;margin: -1px;overflow: hidden;padding: 0;position: absolute;width: 1px;}#sk-container-id-4 div.sk-estimator {font-family: monospace;background-color: #f0f8ff;border: 1px dotted black;border-radius: 0.25em;box-sizing: border-box;margin-bottom: 0.5em;}#sk-container-id-4 div.sk-estimator:hover {background-color: #d4ebff;}#sk-container-id-4 div.sk-parallel-item::after {content: \"\";width: 100%;border-bottom: 1px solid gray;flex-grow: 1;}#sk-container-id-4 div.sk-label:hover label.sk-toggleable__label {background-color: #d4ebff;}#sk-container-id-4 div.sk-serial::before {content: \"\";position: absolute;border-left: 1px solid gray;box-sizing: border-box;top: 0;bottom: 0;left: 50%;z-index: 0;}#sk-container-id-4 div.sk-serial {display: flex;flex-direction: column;align-items: center;background-color: white;padding-right: 0.2em;padding-left: 0.2em;position: relative;}#sk-container-id-4 div.sk-item {position: relative;z-index: 1;}#sk-container-id-4 div.sk-parallel {display: flex;align-items: stretch;justify-content: center;background-color: white;position: relative;}#sk-container-id-4 div.sk-item::before, #sk-container-id-4 div.sk-parallel-item::before {content: \"\";position: absolute;border-left: 1px solid gray;box-sizing: border-box;top: 0;bottom: 0;left: 50%;z-index: -1;}#sk-container-id-4 div.sk-parallel-item {display: flex;flex-direction: column;z-index: 1;position: relative;background-color: white;}#sk-container-id-4 div.sk-parallel-item:first-child::after {align-self: flex-end;width: 50%;}#sk-container-id-4 div.sk-parallel-item:last-child::after {align-self: flex-start;width: 50%;}#sk-container-id-4 div.sk-parallel-item:only-child::after {width: 0;}#sk-container-id-4 div.sk-dashed-wrapped {border: 1px dashed gray;margin: 0 0.4em 0.5em 0.4em;box-sizing: border-box;padding-bottom: 0.4em;background-color: white;}#sk-container-id-4 div.sk-label label {font-family: monospace;font-weight: bold;display: inline-block;line-height: 1.2em;}#sk-container-id-4 div.sk-label-container {text-align: center;}#sk-container-id-4 div.sk-container {/* jupyter's `normalize.less` sets `[hidden] { display: none; }` but bootstrap.min.css set `[hidden] { display: none !important; }` so we also need the `!important` here to be able to override the default hidden behavior on the sphinx rendered scikit-learn.org. See: https://github.com/scikit-learn/scikit-learn/issues/21755 */display: inline-block !important;position: relative;}#sk-container-id-4 div.sk-text-repr-fallback {display: none;}</style><div id=\"sk-container-id-4\" class=\"sk-top-container\"><div class=\"sk-text-repr-fallback\"><pre>DecisionTreeClassifier(criterion=&#x27;entropy&#x27;, max_depth=3, min_samples_leaf=5,\n",
       "                       random_state=42)</pre><b>In a Jupyter environment, please rerun this cell to show the HTML representation or trust the notebook. <br />On GitHub, the HTML representation is unable to render, please try loading this page with nbviewer.org.</b></div><div class=\"sk-container\" hidden><div class=\"sk-item\"><div class=\"sk-estimator sk-toggleable\"><input class=\"sk-toggleable__control sk-hidden--visually\" id=\"sk-estimator-id-4\" type=\"checkbox\" checked><label for=\"sk-estimator-id-4\" class=\"sk-toggleable__label sk-toggleable__label-arrow\">DecisionTreeClassifier</label><div class=\"sk-toggleable__content\"><pre>DecisionTreeClassifier(criterion=&#x27;entropy&#x27;, max_depth=3, min_samples_leaf=5,\n",
       "                       random_state=42)</pre></div></div></div></div></div>"
      ],
      "text/plain": [
       "DecisionTreeClassifier(criterion='entropy', max_depth=3, min_samples_leaf=5,\n",
       "                       random_state=42)"
      ]
     },
     "execution_count": 82,
     "metadata": {},
     "output_type": "execute_result"
    }
   ],
   "source": [
    "clf_entropy = DecisionTreeClassifier(criterion='entropy', random_state=42 , max_depth=3, min_samples_leaf=5)\n",
    "clf_entropy.fit(X_train, Y_train)"
   ]
  },
  {
   "cell_type": "code",
   "execution_count": 83,
   "id": "9518c62e",
   "metadata": {},
   "outputs": [
    {
     "data": {
      "text/plain": [
       "array(['No', 'No', 'yes', 'No', 'No', 'No', 'yes', 'No', 'No', 'No', 'No',\n",
       "       'No', 'No', 'No', 'yes', 'No', 'yes', 'yes', 'No', 'yes', 'yes',\n",
       "       'yes', 'yes', 'No', 'No', 'No', 'yes', 'No', 'No', 'yes', 'No',\n",
       "       'yes', 'No', 'No', 'yes', 'yes', 'No', 'No', 'No', 'yes', 'No',\n",
       "       'No', 'yes', 'yes', 'yes', 'yes', 'No', 'No', 'yes', 'No', 'yes',\n",
       "       'yes', 'No', 'yes', 'yes', 'yes', 'yes', 'yes', 'yes', 'yes',\n",
       "       'yes', 'No', 'yes', 'yes', 'yes', 'yes', 'No', 'yes', 'yes', 'No',\n",
       "       'yes', 'No', 'yes', 'yes', 'yes', 'No', 'No', 'yes', 'No', 'No',\n",
       "       'yes', 'yes', 'No', 'yes', 'yes', 'No', 'yes', 'yes', 'No', 'No',\n",
       "       'yes', 'yes', 'No', 'yes', 'No', 'yes', 'yes', 'No', 'No', 'No',\n",
       "       'yes', 'No', 'yes', 'yes', 'No', 'No', 'No', 'yes', 'yes', 'No',\n",
       "       'yes', 'No', 'No', 'yes', 'No', 'No', 'No', 'No', 'No', 'yes',\n",
       "       'yes', 'No', 'No', 'No', 'yes', 'yes', 'yes', 'yes', 'No', 'yes',\n",
       "       'yes', 'yes', 'yes', 'yes', 'yes', 'yes', 'yes', 'No', 'No', 'No',\n",
       "       'yes', 'No', 'No', 'No', 'yes', 'No', 'No', 'yes', 'No', 'No',\n",
       "       'No', 'No', 'yes', 'yes', 'yes', 'No', 'No', 'No', 'yes', 'yes',\n",
       "       'yes', 'yes', 'No', 'No', 'No', 'yes', 'yes', 'yes', 'No', 'No',\n",
       "       'yes', 'yes', 'No', 'yes', 'yes', 'No', 'No', 'No', 'No', 'No',\n",
       "       'No', 'yes', 'yes', 'No', 'No', 'yes', 'yes', 'yes', 'yes', 'yes',\n",
       "       'No', 'No', 'No', 'yes', 'No', 'yes', 'No', 'yes', 'No', 'No',\n",
       "       'No', 'yes', 'No', 'No', 'No', 'No', 'No', 'No', 'No', 'No', 'yes',\n",
       "       'No', 'No', 'yes', 'yes', 'No', 'yes', 'yes', 'No', 'yes', 'yes',\n",
       "       'No', 'No', 'yes', 'No', 'No', 'No', 'yes', 'No', 'yes', 'No',\n",
       "       'yes', 'No', 'yes', 'No', 'No', 'yes', 'yes', 'No', 'yes', 'yes',\n",
       "       'yes', 'yes', 'yes', 'yes', 'No', 'No', 'No', 'No', 'yes', 'yes',\n",
       "       'yes', 'No', 'yes', 'No', 'No', 'yes', 'yes', 'yes', 'yes', 'yes',\n",
       "       'No', 'No', 'No', 'yes', 'yes', 'No', 'yes', 'yes', 'No', 'yes',\n",
       "       'yes', 'No', 'yes', 'yes', 'No', 'yes', 'yes', 'yes', 'No', 'yes',\n",
       "       'yes', 'No', 'No', 'No', 'No', 'No', 'No', 'yes', 'yes', 'yes',\n",
       "       'No', 'No', 'No', 'No', 'yes', 'yes', 'yes', 'No', 'No', 'yes',\n",
       "       'yes', 'yes', 'yes', 'No', 'No', 'yes', 'yes', 'No', 'No', 'yes',\n",
       "       'yes', 'No', 'No', 'No', 'No', 'No', 'No', 'No', 'yes', 'No',\n",
       "       'yes', 'No', 'yes', 'yes', 'No', 'yes', 'No', 'No', 'No', 'No',\n",
       "       'No', 'yes', 'No', 'No', 'yes', 'yes', 'No', 'yes', 'No', 'yes',\n",
       "       'yes', 'yes', 'No', 'yes', 'No', 'No', 'No', 'No', 'No', 'yes',\n",
       "       'No', 'No', 'yes', 'No', 'No', 'No', 'No', 'yes', 'No', 'yes',\n",
       "       'No', 'No', 'No', 'yes', 'yes', 'No', 'yes', 'No', 'yes', 'No',\n",
       "       'No', 'No', 'No', 'yes', 'yes', 'yes', 'No', 'No', 'yes', 'No',\n",
       "       'No', 'No', 'yes', 'No', 'yes', 'yes', 'No', 'yes', 'yes', 'No',\n",
       "       'No', 'No', 'No', 'No', 'yes', 'No', 'yes', 'yes', 'yes', 'No',\n",
       "       'No', 'No', 'No', 'No', 'No', 'yes', 'yes', 'No', 'No', 'No', 'No',\n",
       "       'yes', 'yes', 'yes', 'yes', 'yes', 'No', 'yes', 'yes', 'No', 'yes',\n",
       "       'No', 'yes', 'yes', 'yes', 'yes', 'yes', 'yes', 'yes', 'yes', 'No',\n",
       "       'No', 'No', 'No', 'No', 'No', 'yes', 'No', 'No', 'No', 'No', 'No',\n",
       "       'No', 'yes', 'No', 'No', 'No', 'No', 'No', 'No', 'No', 'No', 'yes',\n",
       "       'No', 'yes', 'yes', 'No', 'yes', 'No', 'yes', 'No', 'yes', 'No',\n",
       "       'No', 'No', 'yes', 'No', 'No', 'yes', 'No', 'No', 'yes', 'No',\n",
       "       'yes', 'No', 'No', 'yes', 'yes', 'No', 'No', 'No', 'yes', 'yes',\n",
       "       'yes', 'yes', 'No', 'No', 'No', 'yes', 'No', 'No', 'No', 'No',\n",
       "       'No', 'No', 'No', 'No', 'No', 'No', 'No', 'No', 'No', 'No', 'yes',\n",
       "       'yes', 'No', 'yes', 'No', 'yes', 'No', 'yes', 'No', 'No', 'No',\n",
       "       'No', 'No', 'No', 'yes', 'No', 'yes', 'No', 'No', 'No', 'No', 'No',\n",
       "       'No', 'yes', 'yes', 'No', 'No', 'No', 'No', 'yes', 'yes', 'No',\n",
       "       'No', 'No', 'No', 'No', 'No', 'No', 'No', 'yes', 'No', 'No', 'No',\n",
       "       'No', 'yes', 'yes', 'yes', 'No', 'No', 'yes', 'yes', 'yes', 'No',\n",
       "       'yes', 'No', 'No', 'yes', 'yes', 'yes', 'No', 'yes', 'No', 'No',\n",
       "       'yes', 'yes', 'No', 'No', 'yes', 'No', 'yes', 'No', 'No', 'yes',\n",
       "       'No', 'yes', 'yes', 'yes', 'No', 'yes', 'yes', 'No', 'yes', 'No',\n",
       "       'yes', 'No', 'yes', 'No', 'No', 'No', 'yes', 'No', 'yes', 'No',\n",
       "       'yes', 'yes', 'No', 'No', 'No', 'yes', 'yes', 'yes', 'No', 'No',\n",
       "       'yes', 'No', 'yes', 'No', 'No', 'yes', 'No', 'yes', 'yes', 'No',\n",
       "       'No', 'No', 'yes', 'yes', 'yes', 'No', 'yes', 'No', 'yes', 'yes',\n",
       "       'yes', 'yes', 'No', 'No', 'yes', 'No', 'yes', 'yes', 'yes', 'No',\n",
       "       'yes', 'yes', 'yes', 'No', 'No', 'No', 'No', 'No', 'No', 'No',\n",
       "       'No', 'yes', 'No', 'No', 'No', 'No', 'yes', 'No', 'No', 'No', 'No',\n",
       "       'yes', 'yes', 'No', 'No', 'No', 'No', 'yes', 'yes', 'yes', 'yes',\n",
       "       'yes', 'yes', 'No', 'yes', 'yes', 'No', 'yes', 'No', 'yes', 'No',\n",
       "       'yes', 'No', 'yes', 'No', 'No', 'yes', 'yes', 'yes', 'No', 'yes',\n",
       "       'yes', 'No', 'yes', 'No', 'yes', 'No', 'yes', 'yes', 'yes', 'No',\n",
       "       'yes', 'yes'], dtype=object)"
      ]
     },
     "execution_count": 83,
     "metadata": {},
     "output_type": "execute_result"
    }
   ],
   "source": [
    "Y_pred = clf_entropy.predict(X_test)\n",
    "Y_pred"
   ]
  },
  {
   "cell_type": "code",
   "execution_count": 84,
   "id": "ca2d4eeb",
   "metadata": {},
   "outputs": [
    {
     "name": "stdout",
     "output_type": "stream",
     "text": [
      "accuracy score :  92.57142857142857\n"
     ]
    }
   ],
   "source": [
    "acc_score = accuracy_score(Y_test, Y_pred)\n",
    "print(\"accuracy score : \", acc_score * 100)"
   ]
  },
  {
   "cell_type": "code",
   "execution_count": null,
   "id": "7c1fd202",
   "metadata": {},
   "outputs": [],
   "source": []
  }
 ],
 "metadata": {
  "kernelspec": {
   "display_name": "Python 3 (ipykernel)",
   "language": "python",
   "name": "python3"
  },
  "language_info": {
   "codemirror_mode": {
    "name": "ipython",
    "version": 3
   },
   "file_extension": ".py",
   "mimetype": "text/x-python",
   "name": "python",
   "nbconvert_exporter": "python",
   "pygments_lexer": "ipython3",
   "version": "3.11.3"
  }
 },
 "nbformat": 4,
 "nbformat_minor": 5
}
